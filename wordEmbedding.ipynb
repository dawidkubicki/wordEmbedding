{
 "cells": [
  {
   "cell_type": "code",
   "execution_count": 9,
   "metadata": {},
   "outputs": [],
   "source": [
    "#preprocessing \n",
    "\n",
    "from keras.datasets import imdb\n",
    "from keras import preprocessing\n",
    "\n",
    "max_features = 10000\n",
    "maxlen = 20\n",
    "\n",
    "(x_train, y_train),(x_test, y_test) = imdb.load_data(num_words=max_features)\n",
    "\n",
    "x_train = preprocessing.sequence.pad_sequences(x_train, maxlen=maxlen)\n",
    "\n",
    "x_test = preprocessing.sequence.pad_sequences(x_test, maxlen=maxlen)"
   ]
  },
  {
   "cell_type": "code",
   "execution_count": 15,
   "metadata": {
    "scrolled": true
   },
   "outputs": [
    {
     "name": "stdout",
     "output_type": "stream",
     "text": [
      "Model: \"sequential_5\"\n",
      "_________________________________________________________________\n",
      "Layer (type)                 Output Shape              Param #   \n",
      "=================================================================\n",
      "embedding_4 (Embedding)      (None, 20, 8)             80000     \n",
      "_________________________________________________________________\n",
      "flatten_4 (Flatten)          (None, 160)               0         \n",
      "_________________________________________________________________\n",
      "dense_3 (Dense)              (None, 1)                 161       \n",
      "=================================================================\n",
      "Total params: 80,161\n",
      "Trainable params: 80,161\n",
      "Non-trainable params: 0\n",
      "_________________________________________________________________\n",
      "Epoch 1/20\n",
      "157/157 [==============================] - 1s 1ms/step - loss: 0.6901 - acc: 0.5499 - val_loss: 0.6723 - val_acc: 0.6672\n",
      "Epoch 2/20\n",
      "157/157 [==============================] - 0s 868us/step - loss: 0.6492 - acc: 0.7342 - val_loss: 0.6121 - val_acc: 0.7112\n",
      "Epoch 3/20\n",
      "157/157 [==============================] - 0s 895us/step - loss: 0.5724 - acc: 0.7700 - val_loss: 0.5541 - val_acc: 0.7280\n",
      "Epoch 4/20\n",
      "157/157 [==============================] - 0s 891us/step - loss: 0.5031 - acc: 0.7847 - val_loss: 0.5207 - val_acc: 0.7354\n",
      "Epoch 5/20\n",
      "157/157 [==============================] - 0s 931us/step - loss: 0.4525 - acc: 0.8056 - val_loss: 0.5030 - val_acc: 0.7444\n",
      "Epoch 6/20\n",
      "157/157 [==============================] - 0s 946us/step - loss: 0.4126 - acc: 0.8251 - val_loss: 0.4951 - val_acc: 0.7508\n",
      "Epoch 7/20\n",
      "157/157 [==============================] - 0s 922us/step - loss: 0.3934 - acc: 0.8347 - val_loss: 0.4910 - val_acc: 0.7516\n",
      "Epoch 8/20\n",
      "157/157 [==============================] - 0s 887us/step - loss: 0.3751 - acc: 0.8428 - val_loss: 0.4910 - val_acc: 0.7516\n",
      "Epoch 9/20\n",
      "157/157 [==============================] - 0s 918us/step - loss: 0.3503 - acc: 0.8559 - val_loss: 0.4927 - val_acc: 0.7520\n",
      "Epoch 10/20\n",
      "157/157 [==============================] - 0s 950us/step - loss: 0.3330 - acc: 0.8636 - val_loss: 0.4962 - val_acc: 0.7538\n",
      "Epoch 11/20\n",
      "157/157 [==============================] - 0s 893us/step - loss: 0.3169 - acc: 0.8731 - val_loss: 0.5009 - val_acc: 0.7514\n",
      "Epoch 12/20\n",
      "157/157 [==============================] - 0s 903us/step - loss: 0.2986 - acc: 0.8819 - val_loss: 0.5057 - val_acc: 0.7508\n",
      "Epoch 13/20\n",
      "157/157 [==============================] - 0s 941us/step - loss: 0.2869 - acc: 0.8873 - val_loss: 0.5107 - val_acc: 0.7478\n",
      "Epoch 14/20\n",
      "157/157 [==============================] - 0s 879us/step - loss: 0.2754 - acc: 0.8946 - val_loss: 0.5181 - val_acc: 0.7470\n",
      "Epoch 15/20\n",
      "157/157 [==============================] - 0s 953us/step - loss: 0.2609 - acc: 0.9022 - val_loss: 0.5241 - val_acc: 0.7468\n",
      "Epoch 16/20\n",
      "157/157 [==============================] - 0s 914us/step - loss: 0.2460 - acc: 0.9079 - val_loss: 0.5317 - val_acc: 0.7442\n",
      "Epoch 17/20\n",
      "157/157 [==============================] - 0s 905us/step - loss: 0.2354 - acc: 0.9147 - val_loss: 0.5407 - val_acc: 0.7440\n",
      "Epoch 18/20\n",
      "157/157 [==============================] - 0s 917us/step - loss: 0.2197 - acc: 0.9203 - val_loss: 0.5487 - val_acc: 0.7432\n",
      "Epoch 19/20\n",
      "157/157 [==============================] - 0s 934us/step - loss: 0.2076 - acc: 0.9275 - val_loss: 0.5566 - val_acc: 0.7424\n",
      "Epoch 20/20\n",
      "157/157 [==============================] - 0s 894us/step - loss: 0.1980 - acc: 0.9328 - val_loss: 0.5662 - val_acc: 0.7384\n"
     ]
    }
   ],
   "source": [
    "from keras.models import Sequential\n",
    "from keras.layers import Flatten, Dense\n",
    "from keras.layers import Embedding\n",
    "\n",
    "model = Sequential()\n",
    "model.add(Embedding(10000, 8, input_length=maxlen))\n",
    "model.add(Flatten())\n",
    "model.add(Dense(1, activation='sigmoid', use_bias=True))\n",
    "\n",
    "model.compile(optimizer='rmsprop', loss='binary_crossentropy', metrics=['acc'])\n",
    "model.summary()\n",
    "\n",
    "history = model.fit(x_train, y_train,\n",
    "                   epochs=20,\n",
    "                   batch_size=128,\n",
    "                   validation_split=0.2)"
   ]
  },
  {
   "cell_type": "code",
   "execution_count": 189,
   "metadata": {},
   "outputs": [],
   "source": [
    "# import numpy as np\n",
    "\n",
    "# arr1 = np.array([[[1,2,3],[4,5,6],[7,8,9]],[[10,11,12],[13,14,15],[16,17,18]],[[19,20,21],[22,23,24],[25,26,27]]], dtype=np.float32)\n",
    "# arr2 = np.array([[1,2,3,4,5],[6,7,8,9,10],[11,12,13,14,15],[16,17,18,19,20]], dtype=np.int)\n",
    "\n",
    "# print(arr2)\n",
    "# x = arr2[-4:]\n",
    "\n",
    "# x\n",
    "# #print(x.transpose())"
   ]
  },
  {
   "cell_type": "code",
   "execution_count": 208,
   "metadata": {},
   "outputs": [
    {
     "name": "stdout",
     "output_type": "stream",
     "text": [
      "Working with one of the best Shakespeare sources, this film manages to be creditable to it's source, whilst still appealing to a wider audience.<br /><br />Branagh steals the film from under Fishburne's nose, and there's a talented cast on good form.\n",
      "0\n"
     ]
    }
   ],
   "source": [
    "# different approach with plain text from imdb\n",
    "\n",
    "import os\n",
    "\n",
    "imdb_dir = '/Users/dawidkubicki/Documents/dataset/aclImdb'\n",
    "train_dir = os.path.join(imdb_dir, 'train')\n",
    "\n",
    "labels = []\n",
    "texts = []\n",
    "\n",
    "for label_type in ['neg', 'pos']:\n",
    "    dir_name = os.path.join(train_dir, label_type)\n",
    "    for fname in os.listdir(dir_name):\n",
    "        if fname[-4:] == '.txt':\n",
    "            f = open(os.path.join(dir_name, fname))\n",
    "            texts.append(f.read())\n",
    "            f.close()\n",
    "            if label_type == 'neg':\n",
    "                labels.append(0)\n",
    "            else:\n",
    "                labels.append(1)\n",
    "                \n",
    "                \n",
    "# print(texts[0])\n",
    "# print(labels[0])\n",
    "\n",
    "# special_dict = [dict(zip(texts,labels))]\n",
    "# #because of the fact that dictionary is not iterable we can use list to have some kind of iterator\n"
   ]
  }
 ],
 "metadata": {
  "kernelspec": {
   "display_name": "Python 3",
   "language": "python",
   "name": "python3"
  },
  "language_info": {
   "codemirror_mode": {
    "name": "ipython",
    "version": 3
   },
   "file_extension": ".py",
   "mimetype": "text/x-python",
   "name": "python",
   "nbconvert_exporter": "python",
   "pygments_lexer": "ipython3",
   "version": "3.8.5"
  }
 },
 "nbformat": 4,
 "nbformat_minor": 1
}
