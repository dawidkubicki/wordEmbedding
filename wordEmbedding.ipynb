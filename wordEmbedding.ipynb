{
 "cells": [
  {
   "cell_type": "code",
   "execution_count": 9,
   "metadata": {},
   "outputs": [],
   "source": [
    "#preprocessing \n",
    "\n",
    "from keras.datasets import imdb\n",
    "from keras import preprocessing\n",
    "\n",
    "max_features = 10000\n",
    "maxlen = 20\n",
    "\n",
    "(x_train, y_train),(x_test, y_test) = imdb.load_data(num_words=max_features)\n",
    "\n",
    "x_train = preprocessing.sequence.pad_sequences(x_train, maxlen=maxlen)\n",
    "\n",
    "x_test = preprocessing.sequence.pad_sequences(x_test, maxlen=maxlen)"
   ]
  },
  {
   "cell_type": "code",
   "execution_count": 11,
   "metadata": {},
   "outputs": [
    {
     "name": "stdout",
     "output_type": "stream",
     "text": [
      "Model: \"sequential_1\"\n",
      "_________________________________________________________________\n",
      "Layer (type)                 Output Shape              Param #   \n",
      "=================================================================\n",
      "embedding (Embedding)        (None, 20, 8)             80000     \n",
      "_________________________________________________________________\n",
      "flatten (Flatten)            (None, 160)               0         \n",
      "_________________________________________________________________\n",
      "dense (Dense)                (None, 1)                 161       \n",
      "=================================================================\n",
      "Total params: 80,161\n",
      "Trainable params: 80,161\n",
      "Non-trainable params: 0\n",
      "_________________________________________________________________\n",
      "Epoch 1/10\n",
      "625/625 [==============================] - 1s 847us/step - loss: 0.6865 - acc: 0.5626 - val_loss: 0.6284 - val_acc: 0.6918\n",
      "Epoch 2/10\n",
      "625/625 [==============================] - 0s 633us/step - loss: 0.5794 - acc: 0.7450 - val_loss: 0.5336 - val_acc: 0.7256\n",
      "Epoch 3/10\n",
      "625/625 [==============================] - 0s 648us/step - loss: 0.4749 - acc: 0.7883 - val_loss: 0.5039 - val_acc: 0.7450\n",
      "Epoch 4/10\n",
      "625/625 [==============================] - 0s 628us/step - loss: 0.4242 - acc: 0.8134 - val_loss: 0.4954 - val_acc: 0.7506\n",
      "Epoch 5/10\n",
      "625/625 [==============================] - 0s 660us/step - loss: 0.3919 - acc: 0.8281 - val_loss: 0.4944 - val_acc: 0.7592\n",
      "Epoch 6/10\n",
      "625/625 [==============================] - 0s 635us/step - loss: 0.3695 - acc: 0.8450 - val_loss: 0.4973 - val_acc: 0.7582\n",
      "Epoch 7/10\n",
      "625/625 [==============================] - 0s 637us/step - loss: 0.3473 - acc: 0.8526 - val_loss: 0.5025 - val_acc: 0.7560\n",
      "Epoch 8/10\n",
      "625/625 [==============================] - 0s 720us/step - loss: 0.3278 - acc: 0.8636 - val_loss: 0.5088 - val_acc: 0.7558\n",
      "Epoch 9/10\n",
      "625/625 [==============================] - 0s 765us/step - loss: 0.3045 - acc: 0.8755 - val_loss: 0.5168 - val_acc: 0.7524\n",
      "Epoch 10/10\n",
      "625/625 [==============================] - 0s 712us/step - loss: 0.2881 - acc: 0.8868 - val_loss: 0.5252 - val_acc: 0.7508\n"
     ]
    }
   ],
   "source": [
    "from keras.models import Sequential\n",
    "from keras.layers import Flatten, Dense\n",
    "from keras.layers import Embedding\n",
    "\n",
    "model = Sequential()\n",
    "model.add(Embedding(10000, 8, input_length=maxlen))\n",
    "model.add(Flatten())\n",
    "model.add(Dense(1, activation='sigmoid'))\n",
    "\n",
    "model.compile(optimizer='rmsprop', loss='binary_crossentropy', metrics=['acc'])\n",
    "model.summary()\n",
    "\n",
    "history = model.fit(x_train, y_train,\n",
    "                   epochs=10,\n",
    "                   batch_size=32,\n",
    "                   validation_split=0.2)"
   ]
  }
 ],
 "metadata": {
  "kernelspec": {
   "display_name": "Python 3",
   "language": "python",
   "name": "python3"
  },
  "language_info": {
   "codemirror_mode": {
    "name": "ipython",
    "version": 3
   },
   "file_extension": ".py",
   "mimetype": "text/x-python",
   "name": "python",
   "nbconvert_exporter": "python",
   "pygments_lexer": "ipython3",
   "version": "3.8.5"
  }
 },
 "nbformat": 4,
 "nbformat_minor": 1
}
