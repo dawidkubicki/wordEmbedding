{
 "cells": [
  {
   "cell_type": "code",
   "execution_count": 11,
   "metadata": {
    "pycharm": {
     "is_executing": true
    }
   },
   "outputs": [
    {
     "name": "stderr",
     "output_type": "stream",
     "text": [
      "<__array_function__ internals>:5: VisibleDeprecationWarning: Creating an ndarray from ragged nested sequences (which is a list-or-tuple of lists-or-tuples-or ndarrays with different lengths or shapes) is deprecated. If you meant to do this, you must specify 'dtype=object' when creating the ndarray\n",
      "/Users/dawidkubicki/.conda/envs/wordEmbedding/lib/python3.8/site-packages/tensorflow/python/keras/datasets/imdb.py:159: VisibleDeprecationWarning: Creating an ndarray from ragged nested sequences (which is a list-or-tuple of lists-or-tuples-or ndarrays with different lengths or shapes) is deprecated. If you meant to do this, you must specify 'dtype=object' when creating the ndarray\n",
      "  x_train, y_train = np.array(xs[:idx]), np.array(labels[:idx])\n",
      "/Users/dawidkubicki/.conda/envs/wordEmbedding/lib/python3.8/site-packages/tensorflow/python/keras/datasets/imdb.py:160: VisibleDeprecationWarning: Creating an ndarray from ragged nested sequences (which is a list-or-tuple of lists-or-tuples-or ndarrays with different lengths or shapes) is deprecated. If you meant to do this, you must specify 'dtype=object' when creating the ndarray\n",
      "  x_test, y_test = np.array(xs[idx:]), np.array(labels[idx:])\n"
     ]
    }
   ],
   "source": [
    "#preprocessing \n",
    "\n",
    "from keras.datasets import imdb\n",
    "from keras import preprocessing\n",
    "\n",
    "max_features = 10000\n",
    "maxlen = 20\n",
    "\n",
    "(x_train, y_train),(x_test, y_test) = imdb.load_data(num_words=max_features)\n",
    "\n",
    "x_train = preprocessing.sequence.pad_sequences(x_train, maxlen=maxlen)\n",
    "\n",
    "x_test = preprocessing.sequence.pad_sequences(x_test, maxlen=maxlen)"
   ]
  },
  {
   "cell_type": "code",
   "execution_count": 12,
   "metadata": {
    "scrolled": true
   },
   "outputs": [
    {
     "name": "stdout",
     "output_type": "stream",
     "text": [
      "Model: \"sequential\"\n",
      "_________________________________________________________________\n",
      "Layer (type)                 Output Shape              Param #   \n",
      "=================================================================\n",
      "embedding (Embedding)        (None, 20, 8)             80000     \n",
      "_________________________________________________________________\n",
      "flatten (Flatten)            (None, 160)               0         \n",
      "_________________________________________________________________\n",
      "dense (Dense)                (None, 1)                 161       \n",
      "=================================================================\n",
      "Total params: 80,161\n",
      "Trainable params: 80,161\n",
      "Non-trainable params: 0\n",
      "_________________________________________________________________\n",
      "Epoch 1/20\n",
      "157/157 [==============================] - 1s 2ms/step - loss: 0.6909 - acc: 0.5322 - val_loss: 0.6738 - val_acc: 0.6634\n",
      "Epoch 2/20\n",
      "157/157 [==============================] - 0s 890us/step - loss: 0.6537 - acc: 0.7209 - val_loss: 0.6122 - val_acc: 0.7058\n",
      "Epoch 3/20\n",
      "157/157 [==============================] - 0s 934us/step - loss: 0.5742 - acc: 0.7651 - val_loss: 0.5516 - val_acc: 0.7238\n",
      "Epoch 4/20\n",
      "157/157 [==============================] - 0s 910us/step - loss: 0.5002 - acc: 0.7873 - val_loss: 0.5168 - val_acc: 0.7366\n",
      "Epoch 5/20\n",
      "157/157 [==============================] - 0s 926us/step - loss: 0.4541 - acc: 0.8019 - val_loss: 0.4972 - val_acc: 0.7524\n",
      "Epoch 6/20\n",
      "157/157 [==============================] - 0s 873us/step - loss: 0.4230 - acc: 0.8179 - val_loss: 0.4895 - val_acc: 0.7554\n",
      "Epoch 7/20\n",
      "157/157 [==============================] - 0s 938us/step - loss: 0.3951 - acc: 0.8315 - val_loss: 0.4861 - val_acc: 0.7554\n",
      "Epoch 8/20\n",
      "157/157 [==============================] - 0s 952us/step - loss: 0.3683 - acc: 0.8444 - val_loss: 0.4854 - val_acc: 0.7578\n",
      "Epoch 9/20\n",
      "157/157 [==============================] - 0s 942us/step - loss: 0.3487 - acc: 0.8567 - val_loss: 0.4873 - val_acc: 0.7588\n",
      "Epoch 10/20\n",
      "157/157 [==============================] - 0s 909us/step - loss: 0.3374 - acc: 0.8616 - val_loss: 0.4900 - val_acc: 0.7598\n",
      "Epoch 11/20\n",
      "157/157 [==============================] - 0s 948us/step - loss: 0.3167 - acc: 0.8722 - val_loss: 0.4953 - val_acc: 0.7588\n",
      "Epoch 12/20\n",
      "157/157 [==============================] - 0s 935us/step - loss: 0.3050 - acc: 0.8783 - val_loss: 0.5003 - val_acc: 0.7606\n",
      "Epoch 13/20\n",
      "157/157 [==============================] - 0s 942us/step - loss: 0.2850 - acc: 0.8851 - val_loss: 0.5048 - val_acc: 0.7582\n",
      "Epoch 14/20\n",
      "157/157 [==============================] - 0s 946us/step - loss: 0.2678 - acc: 0.8956 - val_loss: 0.5117 - val_acc: 0.7576\n",
      "Epoch 15/20\n",
      "157/157 [==============================] - 0s 914us/step - loss: 0.2552 - acc: 0.9063 - val_loss: 0.5187 - val_acc: 0.7554\n",
      "Epoch 16/20\n",
      "157/157 [==============================] - 0s 967us/step - loss: 0.2474 - acc: 0.9103 - val_loss: 0.5261 - val_acc: 0.7534\n",
      "Epoch 17/20\n",
      "157/157 [==============================] - 0s 958us/step - loss: 0.2388 - acc: 0.9145 - val_loss: 0.5334 - val_acc: 0.7510\n",
      "Epoch 18/20\n",
      "157/157 [==============================] - 0s 956us/step - loss: 0.2232 - acc: 0.9198 - val_loss: 0.5415 - val_acc: 0.7502\n",
      "Epoch 19/20\n",
      "157/157 [==============================] - 0s 987us/step - loss: 0.2093 - acc: 0.9293 - val_loss: 0.5517 - val_acc: 0.7508\n",
      "Epoch 20/20\n",
      "157/157 [==============================] - 0s 862us/step - loss: 0.1985 - acc: 0.9306 - val_loss: 0.5583 - val_acc: 0.7448\n"
     ]
    }
   ],
   "source": [
    "from keras.models import Sequential\n",
    "from keras.layers import Flatten, Dense\n",
    "from keras.layers import Embedding\n",
    "\n",
    "model = Sequential()\n",
    "model.add(Embedding(10000, 8, input_length=maxlen))\n",
    "model.add(Flatten())\n",
    "model.add(Dense(1, activation='sigmoid', use_bias=True))\n",
    "\n",
    "model.compile(optimizer='rmsprop', loss='binary_crossentropy', metrics=['acc'])\n",
    "model.summary()\n",
    "\n",
    "history = model.fit(x_train, y_train,\n",
    "                   epochs=20,\n",
    "                   batch_size=128,\n",
    "                   validation_split=0.2)"
   ]
  },
  {
   "cell_type": "code",
   "execution_count": 13,
   "metadata": {},
   "outputs": [],
   "source": [
    "# import numpy as np\n",
    "\n",
    "# arr1 = np.array([[[1,2,3],[4,5,6],[7,8,9]],[[10,11,12],[13,14,15],[16,17,18]],[[19,20,21],[22,23,24],[25,26,27]]], dtype=np.float32)\n",
    "# arr2 = np.array([[1,2,3,4,5],[6,7,8,9,10],[11,12,13,14,15],[16,17,18,19,20]], dtype=np.int)\n",
    "\n",
    "# print(arr2)\n",
    "# x = arr2[-4:]\n",
    "\n",
    "# x\n",
    "# #print(x.transpose())"
   ]
  },
  {
   "cell_type": "code",
   "execution_count": 14,
   "metadata": {},
   "outputs": [],
   "source": [
    "# different approach with plain text from imdb\n",
    "\n",
    "import os\n",
    "\n",
    "imdb_dir = '/Users/dawidkubicki/Documents/dataset/aclImdb'\n",
    "train_dir = os.path.join(imdb_dir, 'train')\n",
    "\n",
    "labels = []\n",
    "texts = []\n",
    "\n",
    "for label_type in ['neg', 'pos']:\n",
    "    dir_name = os.path.join(train_dir, label_type)\n",
    "    for fname in os.listdir(dir_name):\n",
    "        if fname[-4:] == '.txt':\n",
    "            f = open(os.path.join(dir_name, fname))\n",
    "            texts.append(f.read())\n",
    "            f.close()\n",
    "            if label_type == 'neg':\n",
    "                labels.append(0)\n",
    "            else:\n",
    "                labels.append(1)\n",
    "                \n",
    "                \n",
    "# print(texts[0])\n",
    "# print(labels[0])\n",
    "\n",
    "# special_dict = [dict(zip(texts,labels))]\n",
    "# #because of the fact that dictionary is not iterable we can use list to have some kind of iterator\n"
   ]
  },
  {
   "cell_type": "markdown",
   "metadata": {},
   "source": [
    "### Tokenizing plain text from IMDB"
   ]
  },
  {
   "cell_type": "code",
   "execution_count": 15,
   "metadata": {},
   "outputs": [
    {
     "name": "stdout",
     "output_type": "stream",
     "text": [
      "Znaleziono 88582 unikatowych tokenów.\n",
      "Ksztalt tensora danych:  (25000, 100)\n",
      "Ksztalt tensora etykiet:  (25000,)\n"
     ]
    }
   ],
   "source": [
    "import numpy as np\n",
    "\n",
    "from keras.preprocessing.text import Tokenizer\n",
    "from keras.preprocessing.sequence import pad_sequences\n",
    "\n",
    "maxlen = 100 #first 100 words \n",
    "training_samples = 200 #training on 200 samples\n",
    "validation_samples = 10000 #validation on 10000 samples\n",
    "\n",
    "max_words = 10000 #10000 most common in frequency words in dataset\n",
    "\n",
    "tokenizer = Tokenizer(num_words=max_words)\n",
    "tokenizer.fit_on_texts(texts)\n",
    "sequences = tokenizer.texts_to_sequences(texts)\n",
    "\n",
    "word_index = tokenizer.word_index\n",
    "print('Znaleziono %s unikatowych tokenów.' % len(word_index))\n",
    "\n",
    "data = pad_sequences(sequences, maxlen=maxlen)\n",
    "\n",
    "labels = np.asarray(labels)\n",
    "print('Ksztalt tensora danych: ', data.shape)\n",
    "print('Ksztalt tensora etykiet: ', labels.shape)\n",
    "\n",
    "indices = np.arange(data.shape[0])\n",
    "np.random.shuffle(indices)\n",
    "data = data[indices]\n",
    "labels = labels[indices]\n",
    "\n",
    "x_train = data[:training_samples]\n",
    "y_train = labels[:training_samples]\n",
    "x_val = data[training_samples: training_samples+validation_samples]\n",
    "y_val = labels[training_samples: training_samples+validation_samples]"
   ]
  },
  {
   "cell_type": "code",
   "execution_count": 18,
   "metadata": {},
   "outputs": [
    {
     "name": "stdout",
     "output_type": "stream",
     "text": [
      "Znaleziono 400000 wektorów słów\n"
     ]
    }
   ],
   "source": [
    "#parsing GloVe word embeddings\n",
    "\n",
    "glove_dir = '/Users/dawidkubicki/Documents/dataset'\n",
    "\n",
    "embeddings_index = {}\n",
    "\n",
    "f = open(os.path.join(glove_dir, 'glove.6B.100d.txt'))\n",
    "for line in f:\n",
    "    values = line.split()\n",
    "    word = values[0]\n",
    "    coefs = np.asarray(values[1:], dtype='float32')\n",
    "    embeddings_index[word] = coefs\n",
    "f.close()\n",
    "\n",
    "print('Znaleziono %s wektorów słów' % len(embeddings_index))\n",
    "\n"
   ]
  },
  {
   "cell_type": "code",
   "execution_count": 19,
   "metadata": {},
   "outputs": [],
   "source": [
    "#prepare matrixes for GloVe\n",
    "\n",
    "embedding_dim = 100\n",
    "\n",
    "embedding_matrix = np.zeros((max_words, embedding_dim))\n",
    "for word, i in word_index.items():\n",
    "    embedding_vector = embeddings_index.get(word)\n",
    "    if i < max_words:\n",
    "        if embedding_vector is not None:\n",
    "            embedding_matrix[i] = embedding_vector\n",
    "    "
   ]
  },
  {
   "cell_type": "code",
   "execution_count": 21,
   "metadata": {
    "scrolled": true
   },
   "outputs": [
    {
     "name": "stdout",
     "output_type": "stream",
     "text": [
      "Model: \"sequential_1\"\n",
      "_________________________________________________________________\n",
      "Layer (type)                 Output Shape              Param #   \n",
      "=================================================================\n",
      "embedding_1 (Embedding)      (None, 100, 100)          1000000   \n",
      "_________________________________________________________________\n",
      "flatten_1 (Flatten)          (None, 10000)             0         \n",
      "_________________________________________________________________\n",
      "dense_1 (Dense)              (None, 32)                320032    \n",
      "_________________________________________________________________\n",
      "dense_2 (Dense)              (None, 1)                 33        \n",
      "=================================================================\n",
      "Total params: 1,320,065\n",
      "Trainable params: 1,320,065\n",
      "Non-trainable params: 0\n",
      "_________________________________________________________________\n"
     ]
    }
   ],
   "source": [
    "#define model\n",
    "\n",
    "from keras.models import Sequential\n",
    "from keras.layers import Embedding, Flatten, Dense\n",
    "\n",
    "model = Sequential()\n",
    "model.add(Embedding(max_words, embedding_dim,input_length=maxlen))\n",
    "model.add(Flatten())\n",
    "model.add(Dense(32, activation='relu'))\n",
    "model.add(Dense(1, activation='sigmoid'))\n",
    "model.summary()"
   ]
  },
  {
   "cell_type": "code",
   "execution_count": null,
   "metadata": {},
   "outputs": [],
   "source": [
    "model.layers[0].set_weights([embedding_matrix])\n",
    "model.layers[0].trainable = False"
   ]
  },
  {
   "cell_type": "code",
   "execution_count": 22,
   "metadata": {},
   "outputs": [
    {
     "name": "stdout",
     "output_type": "stream",
     "text": [
      "Epoch 1/10\n",
      "7/7 [==============================] - 1s 70ms/step - loss: 0.6911 - acc: 0.5302 - val_loss: 0.6954 - val_acc: 0.5043\n",
      "Epoch 2/10\n",
      "7/7 [==============================] - 0s 36ms/step - loss: 0.4926 - acc: 0.9961 - val_loss: 0.6982 - val_acc: 0.5118\n",
      "Epoch 3/10\n",
      "7/7 [==============================] - 0s 37ms/step - loss: 0.2744 - acc: 1.0000 - val_loss: 0.7328 - val_acc: 0.5076\n",
      "Epoch 4/10\n",
      "7/7 [==============================] - 0s 36ms/step - loss: 0.1356 - acc: 1.0000 - val_loss: 0.7269 - val_acc: 0.5100\n",
      "Epoch 5/10\n",
      "7/7 [==============================] - 0s 36ms/step - loss: 0.0632 - acc: 1.0000 - val_loss: 0.7343 - val_acc: 0.5124\n",
      "Epoch 6/10\n",
      "7/7 [==============================] - 0s 36ms/step - loss: 0.0337 - acc: 1.0000 - val_loss: 0.7631 - val_acc: 0.5105\n",
      "Epoch 7/10\n",
      "7/7 [==============================] - 0s 38ms/step - loss: 0.0178 - acc: 1.0000 - val_loss: 0.7655 - val_acc: 0.5120\n",
      "Epoch 8/10\n",
      "7/7 [==============================] - 0s 39ms/step - loss: 0.0104 - acc: 1.0000 - val_loss: 0.7964 - val_acc: 0.5114\n",
      "Epoch 9/10\n",
      "7/7 [==============================] - 0s 37ms/step - loss: 0.0061 - acc: 1.0000 - val_loss: 0.8156 - val_acc: 0.5117\n",
      "Epoch 10/10\n",
      "7/7 [==============================] - 0s 37ms/step - loss: 0.0036 - acc: 1.0000 - val_loss: 0.7879 - val_acc: 0.5146\n"
     ]
    }
   ],
   "source": [
    "#training\n",
    "\n",
    "model.compile(optimizer='rmsprop',\n",
    "             loss='binary_crossentropy',\n",
    "             metrics=['acc'])\n",
    "history = model.fit(x_train,y_train,\n",
    "                   epochs=10,\n",
    "                   batch_size=32,\n",
    "                   validation_data=(x_val,y_val))\n",
    "model.save_weights('pre_trained_glove_model.h5')"
   ]
  },
  {
   "cell_type": "code",
   "execution_count": 26,
   "metadata": {},
   "outputs": [
    {
     "ename": "ModuleNotFoundError",
     "evalue": "No module named 'matplolib'",
     "output_type": "error",
     "traceback": [
      "\u001b[0;31m---------------------------------------------------------------------------\u001b[0m",
      "\u001b[0;31mModuleNotFoundError\u001b[0m                       Traceback (most recent call last)",
      "\u001b[0;32m<ipython-input-26-f31659531614>\u001b[0m in \u001b[0;36m<module>\u001b[0;34m\u001b[0m\n\u001b[1;32m      1\u001b[0m \u001b[0;31m#plot\u001b[0m\u001b[0;34m\u001b[0m\u001b[0;34m\u001b[0m\u001b[0;34m\u001b[0m\u001b[0m\n\u001b[1;32m      2\u001b[0m \u001b[0;34m\u001b[0m\u001b[0m\n\u001b[0;32m----> 3\u001b[0;31m \u001b[0;32mimport\u001b[0m \u001b[0mmatplolib\u001b[0m\u001b[0;34m.\u001b[0m\u001b[0mpyplot\u001b[0m \u001b[0;32mas\u001b[0m \u001b[0mplt\u001b[0m\u001b[0;34m\u001b[0m\u001b[0;34m\u001b[0m\u001b[0m\n\u001b[0m\u001b[1;32m      4\u001b[0m \u001b[0;34m\u001b[0m\u001b[0m\n\u001b[1;32m      5\u001b[0m \u001b[0macc\u001b[0m \u001b[0;34m=\u001b[0m \u001b[0mhistory\u001b[0m\u001b[0;34m.\u001b[0m\u001b[0mhistory\u001b[0m\u001b[0;34m[\u001b[0m\u001b[0;34m'acc'\u001b[0m\u001b[0;34m]\u001b[0m\u001b[0;34m\u001b[0m\u001b[0;34m\u001b[0m\u001b[0m\n",
      "\u001b[0;31mModuleNotFoundError\u001b[0m: No module named 'matplolib'"
     ]
    }
   ],
   "source": [
    "#plot\n",
    "\n",
    "import matplolib.pyplot as plt\n",
    "\n",
    "acc = history.history['acc']\n",
    "val_acc = history.history['val_acc']\n",
    "loss = history.history['loss']\n",
    "val_loss = history.history['val_loss']\n",
    "\n",
    "epochs = range(1, len(acc) + 1)\n",
    "\n",
    "plt.plot(epochs,acc,'bo',label='Training accuracy')\n",
    "plt.plot(epochs,val_acc,'bo',label='Validation accuracy')\n",
    "plt.title('Training and validation accuracy')\n",
    "plt.legend()\n",
    "\n",
    "plt.figure()\n",
    "\n",
    "plt.plot(epochs,loss,'bo',label='Loss function')\n",
    "plt.plot(epochs,val_loss,'bo',label='Validation loss function')\n",
    "plt.title('Training and validation loss function')\n",
    "plt.legend()\n",
    "\n",
    "plt.show()"
   ]
  }
 ],
 "metadata": {
  "kernelspec": {
   "display_name": "Python 3",
   "language": "python",
   "name": "python3"
  },
  "language_info": {
   "codemirror_mode": {
    "name": "ipython",
    "version": 3
   },
   "file_extension": ".py",
   "mimetype": "text/x-python",
   "name": "python",
   "nbconvert_exporter": "python",
   "pygments_lexer": "ipython3",
   "version": "3.8.5"
  }
 },
 "nbformat": 4,
 "nbformat_minor": 1
}
