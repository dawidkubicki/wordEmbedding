{
 "cells": [
  {
   "cell_type": "code",
   "execution_count": 3,
   "metadata": {
    "pycharm": {
     "is_executing": true
    }
   },
   "outputs": [
    {
     "name": "stderr",
     "output_type": "stream",
     "text": [
      "<__array_function__ internals>:5: VisibleDeprecationWarning: Creating an ndarray from ragged nested sequences (which is a list-or-tuple of lists-or-tuples-or ndarrays with different lengths or shapes) is deprecated. If you meant to do this, you must specify 'dtype=object' when creating the ndarray\n",
      "/Users/dawidkubicki/.conda/envs/wordEmbedding/lib/python3.8/site-packages/tensorflow/python/keras/datasets/imdb.py:159: VisibleDeprecationWarning: Creating an ndarray from ragged nested sequences (which is a list-or-tuple of lists-or-tuples-or ndarrays with different lengths or shapes) is deprecated. If you meant to do this, you must specify 'dtype=object' when creating the ndarray\n",
      "  x_train, y_train = np.array(xs[:idx]), np.array(labels[:idx])\n",
      "/Users/dawidkubicki/.conda/envs/wordEmbedding/lib/python3.8/site-packages/tensorflow/python/keras/datasets/imdb.py:160: VisibleDeprecationWarning: Creating an ndarray from ragged nested sequences (which is a list-or-tuple of lists-or-tuples-or ndarrays with different lengths or shapes) is deprecated. If you meant to do this, you must specify 'dtype=object' when creating the ndarray\n",
      "  x_test, y_test = np.array(xs[idx:]), np.array(labels[idx:])\n"
     ]
    }
   ],
   "source": [
    "#preprocessing \n",
    "\n",
    "from keras.datasets import imdb\n",
    "from keras import preprocessing\n",
    "\n",
    "max_features = 10000\n",
    "maxlen = 20\n",
    "\n",
    "(x_train, y_train),(x_test, y_test) = imdb.load_data(num_words=max_features)\n",
    "\n",
    "x_train = preprocessing.sequence.pad_sequences(x_train, maxlen=maxlen)\n",
    "\n",
    "x_test = preprocessing.sequence.pad_sequences(x_test, maxlen=maxlen)"
   ]
  },
  {
   "cell_type": "code",
   "execution_count": null,
   "metadata": {},
   "outputs": [],
   "source": []
  },
  {
   "cell_type": "code",
   "execution_count": 4,
   "metadata": {
    "scrolled": true
   },
   "outputs": [
    {
     "name": "stdout",
     "output_type": "stream",
     "text": [
      "Model: \"sequential_1\"\n",
      "_________________________________________________________________\n",
      "Layer (type)                 Output Shape              Param #   \n",
      "=================================================================\n",
      "embedding (Embedding)        (None, 20, 8)             80000     \n",
      "_________________________________________________________________\n",
      "flatten (Flatten)            (None, 160)               0         \n",
      "_________________________________________________________________\n",
      "dense (Dense)                (None, 1)                 161       \n",
      "=================================================================\n",
      "Total params: 80,161\n",
      "Trainable params: 80,161\n",
      "Non-trainable params: 0\n",
      "_________________________________________________________________\n",
      "Epoch 1/20\n",
      "157/157 [==============================] - 1s 2ms/step - loss: 0.6896 - acc: 0.5454 - val_loss: 0.6695 - val_acc: 0.6574\n",
      "Epoch 2/20\n",
      "157/157 [==============================] - 0s 870us/step - loss: 0.6473 - acc: 0.7270 - val_loss: 0.6091 - val_acc: 0.7036\n",
      "Epoch 3/20\n",
      "157/157 [==============================] - 0s 860us/step - loss: 0.5694 - acc: 0.7608 - val_loss: 0.5531 - val_acc: 0.7202\n",
      "Epoch 4/20\n",
      "157/157 [==============================] - 0s 862us/step - loss: 0.4961 - acc: 0.7940 - val_loss: 0.5205 - val_acc: 0.7360\n",
      "Epoch 5/20\n",
      "157/157 [==============================] - 0s 870us/step - loss: 0.4551 - acc: 0.8057 - val_loss: 0.5032 - val_acc: 0.7424\n",
      "Epoch 6/20\n",
      "157/157 [==============================] - 0s 908us/step - loss: 0.4124 - acc: 0.8271 - val_loss: 0.4946 - val_acc: 0.7490\n",
      "Epoch 7/20\n",
      "157/157 [==============================] - 0s 861us/step - loss: 0.3885 - acc: 0.8371 - val_loss: 0.4903 - val_acc: 0.7538\n",
      "Epoch 8/20\n",
      "157/157 [==============================] - 0s 902us/step - loss: 0.3613 - acc: 0.8519 - val_loss: 0.4902 - val_acc: 0.7560\n",
      "Epoch 9/20\n",
      "157/157 [==============================] - 0s 845us/step - loss: 0.3416 - acc: 0.8617 - val_loss: 0.4930 - val_acc: 0.7532\n",
      "Epoch 10/20\n",
      "157/157 [==============================] - 0s 856us/step - loss: 0.3254 - acc: 0.8677 - val_loss: 0.4959 - val_acc: 0.7540\n",
      "Epoch 11/20\n",
      "157/157 [==============================] - 0s 867us/step - loss: 0.3039 - acc: 0.8829 - val_loss: 0.4995 - val_acc: 0.7546\n",
      "Epoch 12/20\n",
      "157/157 [==============================] - 0s 899us/step - loss: 0.2900 - acc: 0.8861 - val_loss: 0.5048 - val_acc: 0.7518\n",
      "Epoch 13/20\n",
      "157/157 [==============================] - 0s 964us/step - loss: 0.2738 - acc: 0.8962 - val_loss: 0.5114 - val_acc: 0.7492\n",
      "Epoch 14/20\n",
      "157/157 [==============================] - 0s 930us/step - loss: 0.2594 - acc: 0.9032 - val_loss: 0.5180 - val_acc: 0.7482\n",
      "Epoch 15/20\n",
      "157/157 [==============================] - 0s 930us/step - loss: 0.2487 - acc: 0.9065 - val_loss: 0.5254 - val_acc: 0.7450\n",
      "Epoch 16/20\n",
      "157/157 [==============================] - 0s 907us/step - loss: 0.2258 - acc: 0.9169 - val_loss: 0.5334 - val_acc: 0.7450\n",
      "Epoch 17/20\n",
      "157/157 [==============================] - 0s 939us/step - loss: 0.2173 - acc: 0.9218 - val_loss: 0.5408 - val_acc: 0.7434\n",
      "Epoch 18/20\n",
      "157/157 [==============================] - 0s 939us/step - loss: 0.2047 - acc: 0.9300 - val_loss: 0.5505 - val_acc: 0.7416\n",
      "Epoch 19/20\n",
      "157/157 [==============================] - 0s 897us/step - loss: 0.1937 - acc: 0.9343 - val_loss: 0.5611 - val_acc: 0.7396\n",
      "Epoch 20/20\n",
      "157/157 [==============================] - 0s 895us/step - loss: 0.1833 - acc: 0.9371 - val_loss: 0.5715 - val_acc: 0.7380\n"
     ]
    }
   ],
   "source": [
    "from keras.models import Sequential\n",
    "from keras.layers import Flatten, Dense\n",
    "from keras.layers import Embedding\n",
    "\n",
    "model = Sequential()\n",
    "model.add(Embedding(10000, 8, input_length=maxlen))\n",
    "model.add(Flatten())\n",
    "model.add(Dense(1, activation='sigmoid', use_bias=True))\n",
    "\n",
    "model.compile(optimizer='rmsprop', loss='binary_crossentropy', metrics=['acc'])\n",
    "model.summary()\n",
    "\n",
    "history = model.fit(x_train, y_train,\n",
    "                   epochs=20,\n",
    "                   batch_size=128,\n",
    "                   validation_split=0.2)"
   ]
  },
  {
   "cell_type": "code",
   "execution_count": 5,
   "metadata": {},
   "outputs": [],
   "source": [
    "# import numpy as np\n",
    "\n",
    "# arr1 = np.array([[[1,2,3],[4,5,6],[7,8,9]],[[10,11,12],[13,14,15],[16,17,18]],[[19,20,21],[22,23,24],[25,26,27]]], dtype=np.float32)\n",
    "# arr2 = np.array([[1,2,3,4,5],[6,7,8,9,10],[11,12,13,14,15],[16,17,18,19,20]], dtype=np.int)\n",
    "\n",
    "# print(arr2)\n",
    "# x = arr2[-4:]\n",
    "\n",
    "# x\n",
    "# #print(x.transpose())"
   ]
  },
  {
   "cell_type": "code",
   "execution_count": null,
   "metadata": {},
   "outputs": [],
   "source": [
    "# different approach with plain text from imdb\n",
    "\n",
    "import os\n",
    "\n",
    "imdb_dir = '/Users/dawidkubicki/Documents/dataset/aclImdb'\n",
    "train_dir = os.path.join(imdb_dir, 'train')\n",
    "\n",
    "labels = []\n",
    "texts = []\n",
    "\n",
    "for label_type in ['neg', 'pos']:\n",
    "    dir_name = os.path.join(train_dir, label_type)\n",
    "    for fname in os.listdir(dir_name):\n",
    "        if fname[-4:] == '.txt':\n",
    "            f = open(os.path.join(dir_name, fname))\n",
    "            texts.append(f.read())\n",
    "            f.close()\n",
    "            if label_type == 'neg':\n",
    "                labels.append(0)\n",
    "            else:\n",
    "                labels.append(1)\n",
    "                \n",
    "                \n",
    "# print(texts[0])\n",
    "# print(labels[0])\n",
    "\n",
    "# special_dict = [dict(zip(texts,labels))]\n",
    "# #because of the fact that dictionary is not iterable we can use list to have some kind of iterator\n"
   ]
  },
  {
   "cell_type": "markdown",
   "metadata": {},
   "source": [
    "### Tokenizing plain text from IMDB"
   ]
  },
  {
   "cell_type": "code",
   "execution_count": null,
   "metadata": {},
   "outputs": [],
   "source": [
    "import numpy as np\n",
    "\n",
    "from keras.preprocessing.text import Tokenizer\n",
    "from keras.preprocessing.sequence import pad_sequences\n",
    "\n",
    "maxlen = 100 #first 100 words \n",
    "training_samples = 200 #training on 200 samples\n",
    "validation_samples = 10000 #validation on 10000 samples\n",
    "\n",
    "max_words = 10000 #10000 most common in frequency words in dataset\n",
    "\n",
    "tokenizer = Tokenizer(num_words=max_words)\n",
    "tokenizer.fit_on_texts(texts)\n",
    "sequences = tokenizer.texts_to_sequences(texts)\n",
    "\n",
    "word_index = tokenizer.word_index\n",
    "print('Znaleziono %s unikatowych tokenów.' % len(word_index))\n",
    "\n",
    "data = pad_sequences(sequences, maxlen=maxlen)\n",
    "\n",
    "labels = np.asarray(labels)\n",
    "print('Ksztalt tensora danych: ', data.shape)\n",
    "print('Ksztalt tensora etykiet: ', labels.shape)\n",
    "\n",
    "indices = np.arange(data.shape[0])\n",
    "np.random.shuffle(indices)\n",
    "data = data[indices]\n",
    "labels = labels[indices]\n",
    "\n",
    "x_train = data[:training_samples]\n",
    "y_train = labels[:training_samples]\n",
    "x_val = data[training_samples: training_samples+validation_samples]\n",
    "y_val = labels[training_samples: training_samples+validation_samples]"
   ]
  },
  {
   "cell_type": "code",
   "execution_count": null,
   "metadata": {},
   "outputs": [],
   "source": [
    "#parsing GloVe word embeddings\n",
    "\n",
    "glove_dir = '/Users/dawidkubicki/Documents/dataset'\n",
    "\n",
    "embeddings_index = {}\n",
    "\n",
    "f = open(os.path.join(glove_dir, 'glove.6B.100d.txt'))\n",
    "for line in f:\n",
    "    values = line.split()\n",
    "    word = values[0]\n",
    "    coefs = np.asarray(values[1:], dtype='float32')\n",
    "    embeddings_index[word] = coefs\n",
    "f.close()\n",
    "\n",
    "print('Znaleziono %s wektorów słów' % len(embeddings_index))\n",
    "\n"
   ]
  },
  {
   "cell_type": "code",
   "execution_count": null,
   "metadata": {},
   "outputs": [],
   "source": [
    "#prepare matrixes for GloVe\n",
    "\n",
    "embedding_dim = 100\n",
    "\n",
    "embedding_matrix = np.zeros((max_words, embedding_dim))\n",
    "for word, i in word_index.items():\n",
    "    embedding_vector = embeddings_index.get(word)\n",
    "    if i < max_words:\n",
    "        if embedding_vector is not None:\n",
    "            embedding_matrix[i] = embedding_vector\n",
    "    "
   ]
  },
  {
   "cell_type": "code",
   "execution_count": null,
   "metadata": {
    "scrolled": true
   },
   "outputs": [],
   "source": [
    "#define model\n",
    "\n",
    "from keras.models import Sequential\n",
    "from keras.layers import Embedding, Flatten, Dense\n",
    "\n",
    "model = Sequential()\n",
    "model.add(Embedding(max_words, embedding_dim,input_length=maxlen))\n",
    "model.add(Flatten())\n",
    "model.add(Dense(32, activation='relu'))\n",
    "model.add(Dense(1, activation='sigmoid'))\n",
    "model.summary()"
   ]
  },
  {
   "cell_type": "code",
   "execution_count": null,
   "metadata": {},
   "outputs": [],
   "source": [
    "model.layers[0].set_weights([embedding_matrix])\n",
    "model.layers[0].trainable = False"
   ]
  },
  {
   "cell_type": "code",
   "execution_count": null,
   "metadata": {},
   "outputs": [],
   "source": [
    "#training\n",
    "\n",
    "model.compile(optimizer='rmsprop',\n",
    "             loss='binary_crossentropy',\n",
    "             metrics=['acc'])\n",
    "history = model.fit(x_train,y_train,\n",
    "                   epochs=10,\n",
    "                   batch_size=32,\n",
    "                   validation_data=(x_val,y_val))\n",
    "model.save_weights('pre_trained_glove_model.h5')"
   ]
  },
  {
   "cell_type": "code",
   "execution_count": null,
   "metadata": {},
   "outputs": [],
   "source": [
    "#plot\n",
    "\n",
    "import matplotlib.pyplot as plt\n",
    "\n",
    "acc = history.history['acc']\n",
    "val_acc = history.history['val_acc']\n",
    "loss = history.history['loss']\n",
    "val_loss = history.history['val_loss']\n",
    "\n",
    "epochs = range(1, len(acc) + 1)\n",
    "\n",
    "plt.plot(epochs,acc,'bo',label='Training accuracy')\n",
    "plt.plot(epochs,val_acc,'b',label='Validation accuracy')\n",
    "plt.title('Training and validation accuracy')\n",
    "plt.legend()\n",
    "\n",
    "plt.figure()\n",
    "\n",
    "plt.plot(epochs,loss,'bo',label='Loss function')\n",
    "plt.plot(epochs,val_loss,'b',label='Validation loss function')\n",
    "plt.title('Training and validation loss function')\n",
    "plt.legend()\n",
    "\n",
    "plt.show()"
   ]
  },
  {
   "cell_type": "code",
   "execution_count": null,
   "metadata": {},
   "outputs": [],
   "source": [
    "#training without using trained word embeddings\n",
    "\n",
    "from keras.models import Sequential\n",
    "from keras.layers import Dense, Embedding, Flatten\n",
    "\n",
    "model = Sequential()\n",
    "model.add(Embedding(max_words, embedding_dim, input_length=maxlen))\n",
    "model.add(Flatten())\n",
    "model.add(Dense(32, activation='relu'))\n",
    "model.add(Dense(1, activation='sigmoid'))\n",
    "model.summary()\n",
    "\n",
    "model.compile(optimizer='rmsprop',\n",
    "             loss='binary_crossentropy',\n",
    "             metrics=['acc'])\n",
    "\n",
    "history = model.fit(x_train,y_train,\n",
    "                   epochs=10,\n",
    "                   batch_size=32,\n",
    "                   validation_data=(x_val, y_val))"
   ]
  }
 ],
 "metadata": {
  "kernelspec": {
   "display_name": "Python 3",
   "language": "python",
   "name": "python3"
  },
  "language_info": {
   "codemirror_mode": {
    "name": "ipython",
    "version": 3
   },
   "file_extension": ".py",
   "mimetype": "text/x-python",
   "name": "python",
   "nbconvert_exporter": "python",
   "pygments_lexer": "ipython3",
   "version": "3.8.5"
  }
 },
 "nbformat": 4,
 "nbformat_minor": 1
}